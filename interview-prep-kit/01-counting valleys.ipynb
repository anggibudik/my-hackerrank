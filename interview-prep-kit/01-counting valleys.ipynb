{
 "cells": [
  {
   "cell_type": "markdown",
   "metadata": {},
   "source": [
    "___\n",
    "# **Counting Valleys: Personal Records for a Hiker**\n",
    "\n",
    "by: [AnggiBK](https://github.com/anggibudik)\n",
    "\n",
    "Warm-up Challenges (1) on *Interview Preparation Kit* in [HackerRank](https://www.hackerrank.com/interview/interview-preparation-kit/warmup/challenges)\n",
    "___"
   ]
  },
  {
   "cell_type": "markdown",
   "metadata": {},
   "source": [
    "## **1. Problem Description**\n",
    "\n",
    "An avid hiker keeps meticulous records of his/her hikes. During the last hike that took exactly ***steps*** steps, for every step it was noted if it was an uphill (***U***) or a downhill (***D***) step. Hikes always start and end at sea level, and each step up or down represents a ***1*** unit change in altitude.\n",
    "<br>\n",
    "We define the following terms:\n",
    "<br>\n",
    "- A mountain is a sequence of consecutive steps above sea level, starting with a step up from sea level and ending with a step down to sea level.\n",
    "- A valley is a sequence of consecutive steps below sea level, starting with a step down from sea level and ending with a step up to sea level.\n",
    "<br>\n",
    "<br>\n",
    "Given the sequence of up and down steps during a hike, **find and print the number of valleys walked through**.\n",
    "\n",
    "**Example**\n",
    "\n",
    "$ steps = 8 \\, path = [DDUUUUDD] $\n",
    "\n",
    "The hiker first enters a valley **2** units deep. Then they climb out and up onto a mountain **2** units high. Finally, the hiker returns to sea level and ends the hike.\n",
    "\n",
    "***Function Description***\n",
    "\n",
    "Complete the *countingValleys* function in the editor below.\n",
    "\n",
    "*countingValleys* has the following parameter(s):\n",
    "\n",
    "- int steps: the number of steps on the hike\n",
    "- string path: a string describing the path\n",
    "\n",
    "***Input Format***\n",
    "\n",
    "The first line contains an integer $ \\bf{\\it{steps}} $, the number of steps in the hike.\n",
    "<br>\n",
    "<br>\n",
    "The second line contains a single string $ \\bf{\\it{path}} $, of $ \\bf{\\it{steps}} $ characters that describe the path.\n",
    "\n",
    "***Constraints***\n",
    "\n",
    "- $ 2 \\le steps \\le 10^6 $\n",
    "- $ path[i] \\; \\epsilon \\; {UD} $\n",
    "\n",
    "***Output Format***\n",
    "\n",
    "Integer-type output showing the number of valleys walked through.\n",
    "\n",
    "Sample input:\n",
    "```\n",
    "steps = 8\n",
    "path = UDDDUDUU\n",
    "```\n",
    "Sample output:\n",
    "```\n",
    "1\n",
    "```"
   ]
  },
  {
   "cell_type": "markdown",
   "metadata": {},
   "source": [
    "## **2. Solution**"
   ]
  },
  {
   "cell_type": "markdown",
   "metadata": {},
   "source": [
    "*Note :* <br>\n",
    "Since I use Jupyter kernel, there's no need to import libraries below. But if you use a certain version of Python and/or other IDE, you might need to import them"
   ]
  },
  {
   "cell_type": "code",
   "execution_count": 1,
   "metadata": {},
   "outputs": [],
   "source": [
    "import math\n",
    "import os\n",
    "import random\n",
    "import re\n",
    "import sys"
   ]
  },
  {
   "cell_type": "markdown",
   "metadata": {},
   "source": [
    "**countingValleys Function**\n",
    "\n",
    "Solution idea:\n",
    "- Create a new 'dummy' list ***s*** with the same length as the user input ***path*** (or steps, depending on your perspective)\n",
    "- For each string item ***path[i]*** in ***path***, accumulate path counter ***c_path*** with -1 for downhill path (D) or +1 for uphill path (U)\n",
    "- Replace ***s[i]*** with ***c_path*** which represents the hill slope direction (up/down)\n",
    "- If slope direction ***s[i]*** is found to be 0 (sea level) AND the direction before that, ***s[i-1]***, is found to be less than 0, then it means the hiker just passed a slope. Then, accumulate ***valley*** counter with +1"
   ]
  },
  {
   "cell_type": "code",
   "execution_count": 7,
   "metadata": {},
   "outputs": [],
   "source": [
    "def countingValleys(steps,path):\n",
    "    s = [0]*steps\n",
    "    c_path = 0\n",
    "    valley = 0\n",
    "    \n",
    "    for i in range(len(path)):\n",
    "        if path[i] == 'D':\n",
    "            c_path -= 1\n",
    "        else:\n",
    "            c_path += 1\n",
    "        s[i] = c_path\n",
    "        if (s[i] == 0) and (s[i-1] < 0):\n",
    "            valley +=1\n",
    "    \n",
    "    return valley"
   ]
  },
  {
   "cell_type": "markdown",
   "metadata": {},
   "source": [
    "**Main Function**"
   ]
  },
  {
   "cell_type": "code",
   "execution_count": 9,
   "metadata": {},
   "outputs": [
    {
     "name": "stdin",
     "output_type": "stream",
     "text": [
      " 10\n",
      " DDUUDUDDUU\n"
     ]
    },
    {
     "name": "stdout",
     "output_type": "stream",
     "text": [
      "3\n"
     ]
    }
   ],
   "source": [
    "if __name__ == '__main__':\n",
    "#     fptr = open(os.environ['OUTPUT_PATH'], 'w')\n",
    "\n",
    "    steps = int(input().strip())\n",
    "\n",
    "    path = input()\n",
    "\n",
    "    result = countingValleys(steps, path)\n",
    "\n",
    "#     fptr.write(str(result) + '\\n')\n",
    "\n",
    "#     fptr.close()\n",
    "    \n",
    "    print(result)"
   ]
  },
  {
   "cell_type": "code",
   "execution_count": 2,
   "metadata": {},
   "outputs": [],
   "source": [
    "path = 'ABSCSD'"
   ]
  },
  {
   "cell_type": "code",
   "execution_count": 3,
   "metadata": {},
   "outputs": [
    {
     "data": {
      "text/plain": [
       "'S'"
      ]
     },
     "execution_count": 3,
     "metadata": {},
     "output_type": "execute_result"
    }
   ],
   "source": [
    "path[2]"
   ]
  }
 ],
 "metadata": {
  "kernelspec": {
   "display_name": "data-science",
   "language": "python",
   "name": "data-science"
  },
  "language_info": {
   "codemirror_mode": {
    "name": "ipython",
    "version": 3
   },
   "file_extension": ".py",
   "mimetype": "text/x-python",
   "name": "python",
   "nbconvert_exporter": "python",
   "pygments_lexer": "ipython3",
   "version": "3.7.9"
  }
 },
 "nbformat": 4,
 "nbformat_minor": 4
}
