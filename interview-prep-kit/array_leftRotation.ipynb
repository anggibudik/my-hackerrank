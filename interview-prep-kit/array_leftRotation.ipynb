{
 "cells": [
  {
   "cell_type": "markdown",
   "metadata": {},
   "source": [
    "A left rotation operation on an array shifts each of the array's elements  unit to the left. For example, if  left rotations are performed on array , then the array would become . Note that the lowest index item moves to the highest index in a rotation. This is called a circular array.\n",
    "\n",
    "Given an array  of  integers and a number, , perform  left rotations on the array. Return the updated array to be printed as a single line of space-separated integers.\n",
    "\n",
    "Function Description\n",
    "\n",
    "Complete the function rotLeft in the editor below.\n",
    "\n",
    "rotLeft has the following parameter(s):\n",
    "\n",
    "int a[n]: the array to rotate\n",
    "int d: the number of rotations\n",
    "Returns\n",
    "\n",
    "int a'[n]: the rotated array\n",
    "Input Format\n",
    "\n",
    "The first line contains two space-separated integers  and , the size of  and the number of left rotations.\n",
    "The second line contains  space-separated integers, each an .\n",
    "\n",
    "Constraints\n",
    "\n",
    "Sample Input\n",
    "\n",
    "5 4\n",
    "1 2 3 4 5\n",
    "Sample Output\n",
    "\n",
    "5 1 2 3 4\n",
    "Explanation\n",
    "\n",
    "When we perform  left rotations, the array undergoes the following sequence of changes:\n",
    "\n"
   ]
  },
  {
   "cell_type": "code",
   "execution_count": null,
   "metadata": {},
   "outputs": [],
   "source": [
    "# Complete the rotLeft function below.\n",
    "def rotLeft(a, d):\n",
    "    if len(a) > 1:\n",
    "        if d == len(a):\n",
    "            return a\n",
    "        else:\n",
    "            if d > len(a):\n",
    "                d -= len(a)*(d//len(a))\n",
    "            \n",
    "            b = [0]*len(a)\n",
    "            for i,j in enumerate(a):\n",
    "                m = i - d\n",
    "                b[m] = a[i]\n",
    "            \n",
    "            return b\n",
    "    else:\n",
    "        return a"
   ]
  },
  {
   "cell_type": "code",
   "execution_count": null,
   "metadata": {},
   "outputs": [],
   "source": [
    "if __name__ == '__main__':\n",
    "    fptr = open(os.environ['OUTPUT_PATH'], 'w')\n",
    "\n",
    "    nd = input().split()\n",
    "\n",
    "    n = int(nd[0])\n",
    "\n",
    "    d = int(nd[1])\n",
    "\n",
    "    a = list(map(int, input().rstrip().split()))\n",
    "\n",
    "    result = rotLeft(a, d)\n",
    "\n",
    "    fptr.write(' '.join(map(str, result)))\n",
    "    fptr.write('\\n')\n",
    "\n",
    "    fptr.close()\n"
   ]
  }
 ],
 "metadata": {
  "kernelspec": {
   "display_name": "Python 3",
   "language": "python",
   "name": "python3"
  },
  "language_info": {
   "codemirror_mode": {
    "name": "ipython",
    "version": 3
   },
   "file_extension": ".py",
   "mimetype": "text/x-python",
   "name": "python",
   "nbconvert_exporter": "python",
   "pygments_lexer": "ipython3",
   "version": "3.8.5"
  }
 },
 "nbformat": 4,
 "nbformat_minor": 4
}
