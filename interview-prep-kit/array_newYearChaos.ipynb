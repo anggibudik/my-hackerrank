{
 "cells": [
  {
   "cell_type": "markdown",
   "metadata": {},
   "source": [
    "It is New Year's Day and people are in line for the Wonderland rollercoaster ride. Each person wears a sticker indicating their initial position in the queue from  to . Any person can bribe the person directly in front of them to swap positions, but they still wear their original sticker. One person can bribe at most two others.\n",
    "\n",
    "Determine the minimum number of bribes that took place to get to a given queue order. Print the number of bribes, or, if anyone has bribed more than two people, print Too chaotic.\n",
    "\n",
    "Example\n",
    "\n",
    "\n",
    "If person  bribes person , the queue will look like this: . Only  bribe is required. Print 1.\n",
    "\n",
    "\n",
    "Person  had to bribe  people to get to the current position. Print Too chaotic.\n",
    "\n",
    "Function Description\n",
    "\n",
    "Complete the function minimumBribes in the editor below.\n",
    "\n",
    "minimumBribes has the following parameter(s):\n",
    "\n",
    "int q[n]: the positions of the people after all bribes\n",
    "Returns\n",
    "\n",
    "No value is returned. Print the minimum number of bribes necessary or Too chaotic if someone has bribed more than  people.\n",
    "Input Format\n",
    "\n",
    "The first line contains an integer , the number of test cases.\n",
    "\n",
    "Each of the next  pairs of lines are as follows:\n",
    "- The first line contains an integer , the number of people in the queue\n",
    "- The second line has  space-separated integers describing the final state of the queue.\n",
    "\n",
    "Constraints\n",
    "\n",
    "Subtasks\n",
    "\n",
    "For  score \n",
    "For  score \n",
    "\n",
    "Sample Input\n",
    "\n",
    "STDIN       Function\n",
    "-----       --------\n",
    "2           t = 2\n",
    "5           n = 5\n",
    "2 1 5 3 4   q = [2, 1, 5, 3, 4]\n",
    "5           n = 5\n",
    "2 5 1 3 4   q = [2, 5, 1, 3, 4]\n",
    "Sample Output\n",
    "\n",
    "3\n",
    "Too chaotic\n",
    "Explanation\n",
    "\n",
    "Test Case 1\n",
    "\n",
    "The initial state:\n",
    "\n",
    "pic1(1).png\n",
    "\n",
    "After person  moves one position ahead by bribing person :\n",
    "\n",
    "pic2.png\n",
    "\n",
    "Now person  moves another position ahead by bribing person :\n",
    "\n",
    "pic3.png\n",
    "\n",
    "And person  moves one position ahead by bribing person :\n",
    "\n",
    "pic5.png\n",
    "\n",
    "So the final state is  after three bribing operations.\n",
    "\n",
    "Test Case 2\n",
    "\n",
    "No person can bribe more than two people, yet it appears person  has done so. It is not possible to achieve the input state."
   ]
  },
  {
   "cell_type": "markdown",
   "metadata": {},
   "source": [
    "# From Discussion"
   ]
  },
  {
   "cell_type": "markdown",
   "metadata": {},
   "source": [
    "### 1. Python\n",
    "No need to swap values, no need to loop backwards, no need to loop more than once. Just loop through each person in the queue and check two things: 1. Has this person moved more than two positions forward? 2. How many times has this person been bribed?\n",
    "\n",
    "In Python3:\n",
    "```\n",
    "def minimumBribes(Q):\n",
    "    #\n",
    "    # initialize the number of moves\n",
    "    moves = 0 \n",
    "    #\n",
    "    # decrease Q by 1 to make index-matching more intuitive\n",
    "    # so that our values go from 0 to N-1, just like our\n",
    "    # indices.  (Not necessary but makes it easier to\n",
    "    # understand.)\n",
    "    Q = [P-1 for P in Q]\n",
    "    #\n",
    "    # Loop through each person (P) in the queue (Q)\n",
    "    for i,P in enumerate(Q):\n",
    "        # i is the current position of P, while P is the\n",
    "        # original position of P.\n",
    "        #\n",
    "        # First check if any P is more than two ahead of \n",
    "        # its original position\n",
    "        if P - i > 2:\n",
    "            print(\"Too chaotic\")\n",
    "            return\n",
    "        #\n",
    "        # From here on out, we don't care if P has moved\n",
    "        # forwards, it is better to count how many times\n",
    "        # P has RECEIVED a bribe, by looking at who is\n",
    "        # ahead of P.  P's original position is the value\n",
    "        # of P.\n",
    "        # Anyone who bribed P cannot get to higher than\n",
    "        # one position in front if P's original position,\n",
    "        # so we need to look from one position in front\n",
    "        # of P's original position to one in front of P's\n",
    "        # current position, and see how many of those \n",
    "        # positions in Q contain a number large than P.\n",
    "        # In other words we will look from P-1 to i-1,\n",
    "        # which in Python is range(P-1,i-1+1), or simply\n",
    "        # range(P-1,i).  To make sure we don't try an\n",
    "        # index less than zero, replace P-1 with\n",
    "        # max(P-1,0)\n",
    "        for j in range(max(P-1,0),i):\n",
    "            if Q[j] > P:\n",
    "                moves += 1\n",
    "    print(moves)\n",
    "    ```"
   ]
  },
  {
   "cell_type": "markdown",
   "metadata": {},
   "source": [
    "### 2. C+\n",
    "\n",
    "Since the question only asks the number of bribes, there's no need to really do a sorting, nor element swapping, nor \"bubbling up\" an element. All you need to do is to count the number of people who overtake a person.\n",
    "```\n",
    "void calc(vector<int> q)\n",
    "{\n",
    "    int ans = 0;\n",
    "    for (int i = q.size() - 1; i >= 0; i--) {\n",
    "        if (q[i] - (i + 1) > 2) {\n",
    "            cout << \"Too chaotic\" << endl;\n",
    "            return;\n",
    "        }\n",
    "        for (int j = max(0, q[i] - 2); j < i; j++)\n",
    "            if (q[j] > q[i]) ans++;\n",
    "    }\n",
    "    cout << ans << endl;\n",
    "}\n",
    "    ```"
   ]
  },
  {
   "cell_type": "markdown",
   "metadata": {},
   "source": [
    "### 3. C+\n",
    "\n",
    "There is a pretty simple solution using only a single for-loop.\n",
    "\n",
    "// Complete the minimumBribes function below.\n",
    "```\n",
    "void minimumBribes(vector<int> q) {\n",
    "    int totalBribes = 0;\n",
    "    \n",
    "    int expectedFirst = 1;\n",
    "    int expectedSecond = 2;\n",
    "    int expectedThird = 3;\n",
    "    \n",
    "    for (unsigned int i = 0; i < q.size(); ++i) {\n",
    "        if (q[i] == expectedFirst) {\n",
    "            expectedFirst = expectedSecond;\n",
    "            expectedSecond = expectedThird;\n",
    "            ++expectedThird;\n",
    "        } else if (q[i] == expectedSecond) {\n",
    "            ++totalBribes;\n",
    "            expectedSecond = expectedThird;\n",
    "            ++expectedThird;\n",
    "        } else if (q[i] == expectedThird) {\n",
    "            totalBribes += 2;\n",
    "            ++expectedThird;\n",
    "        } else {\n",
    "            cout << \"Too chaotic\" << endl;\n",
    "            return;\n",
    "        }\n",
    "    }\n",
    "    \n",
    "    cout << totalBribes << endl;\n",
    "}\n",
    "```"
   ]
  },
  {
   "cell_type": "markdown",
   "metadata": {},
   "source": [
    "### 4. Explanation\n",
    "\n",
    "Two points to bear in mind while solving this problem:\n",
    "\n",
    "A person can bribe the one who is sitting just in front of him. The opposite is not possible.\n",
    "A person can bribe atmost 2 different persons.\n",
    "Keeping this in mind, let's have a look at testcase-1.\n",
    "\n",
    "First case:\n",
    "```\n",
    "Current position : 5 1 2 3 7 8 6 4\n",
    "Initial position : 1 2 3 4 5 6 7 8\n",
    "```\n",
    "In the first test, the person-5 has occupied 1st seat. That means he has to bribe 4 persons in front of him to reach on the 1st seat So he violated the second rule here. So that answer is \"Too chaotic\" without further speculation.\n",
    "\n",
    "Second case:\n",
    "```\n",
    "Current position : 1 2 5 3 7 8 6 4\n",
    "Initial position : 1 2 3 4 5 6 7 8\n",
    "```\n",
    "So how did person-4 occupy at position 8? As per the rules, it's not possible for person-4 to bribe persons who are sitting behind him. Instead person 5, 6, 7 & 8 bribed person-4 as he is sitting infront of them. Here is the trasition from initial position to the current position.\n",
    "```\n",
    "1 2 3 4 5 6 7 8  : 0 swap (initial)\n",
    "1 2 3 5 4 6 7 8  : 1 swap (5 and 4)\n",
    "1 2 3 5 6 4 7 8  : 1 swap (6 and 4)\n",
    "1 2 3 5 6 7 4 8  : 1 swap (7 and 4)\n",
    "1 2 3 5 6 7 8 4  : 1 swap (8 and 4)\n",
    "1 2 5 3 6 7 8 4  : 1 swap (5 and 3)\n",
    "1 2 5 3 7 6 8 4  : 1 swap (7 and 6)\n",
    "1 2 5 3 7 8 6 4  : 1 swap (8 and 6)\n",
    "```\n",
    "Obviously no person violated the second rule here. Hence the output is minimum number of swaps 7."
   ]
  },
  {
   "cell_type": "code",
   "execution_count": 5,
   "metadata": {},
   "outputs": [],
   "source": [
    "def minimumBribes(Q):\n",
    "    \n",
    "    # initialize the number of moves\n",
    "    moves = 0 \n",
    "    \n",
    "    Q = [P-1 for P in Q]\n",
    "    \n",
    "    # Loop through each person (P) in the queue (Q)\n",
    "    for i,P in enumerate(Q):\n",
    "        \n",
    "        if P - i > 2:\n",
    "            print(\"Too chaotic\")\n",
    "            return\n",
    "        \n",
    "        for j in range(max(P-1,0),i):\n",
    "            if Q[j] > P:\n",
    "                moves += 1\n",
    "    print(moves)"
   ]
  },
  {
   "cell_type": "code",
   "execution_count": 3,
   "metadata": {},
   "outputs": [
    {
     "name": "stdout",
     "output_type": "stream",
     "text": [
      "1\n"
     ]
    }
   ],
   "source": [
    "minimumBribes([1,2,3,5,4,6,7,8])"
   ]
  },
  {
   "cell_type": "code",
   "execution_count": 4,
   "metadata": {},
   "outputs": [
    {
     "name": "stdout",
     "output_type": "stream",
     "text": [
      "2\n"
     ]
    }
   ],
   "source": [
    "minimumBribes([1,2,3,4,6,5,8,7])"
   ]
  },
  {
   "cell_type": "code",
   "execution_count": 9,
   "metadata": {},
   "outputs": [],
   "source": [
    "Q = [1,2,3,4,6,5,8,7]"
   ]
  },
  {
   "cell_type": "code",
   "execution_count": 10,
   "metadata": {},
   "outputs": [],
   "source": [
    "moves = 0"
   ]
  },
  {
   "cell_type": "code",
   "execution_count": 11,
   "metadata": {},
   "outputs": [
    {
     "data": {
      "text/plain": [
       "[0, 1, 2, 3, 5, 4, 7, 6]"
      ]
     },
     "execution_count": 11,
     "metadata": {},
     "output_type": "execute_result"
    }
   ],
   "source": [
    "Q = [P-1 for P in Q]\n",
    "Q"
   ]
  },
  {
   "cell_type": "code",
   "execution_count": null,
   "metadata": {},
   "outputs": [],
   "source": []
  }
 ],
 "metadata": {
  "kernelspec": {
   "display_name": "Python 3",
   "language": "python",
   "name": "python3"
  },
  "language_info": {
   "codemirror_mode": {
    "name": "ipython",
    "version": 3
   },
   "file_extension": ".py",
   "mimetype": "text/x-python",
   "name": "python",
   "nbconvert_exporter": "python",
   "pygments_lexer": "ipython3",
   "version": "3.8.5"
  }
 },
 "nbformat": 4,
 "nbformat_minor": 4
}
