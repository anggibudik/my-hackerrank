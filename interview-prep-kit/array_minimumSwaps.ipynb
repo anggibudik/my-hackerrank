{
 "cells": [
  {
   "cell_type": "markdown",
   "metadata": {},
   "source": [
    "You are given an unordered array consisting of consecutive integers  [1, 2, 3, ..., n] without any duplicates. You are allowed to swap any two elements. You need to find the minimum number of swaps required to sort the array in ascending order.\n",
    "\n",
    "For example, given the array  we perform the following steps:\n",
    "\n",
    "i   arr                         swap (indices)\n",
    "0   [7, 1, 3, 2, 4, 5, 6]   swap (0,3)\n",
    "1   [2, 1, 3, 7, 4, 5, 6]   swap (0,1)\n",
    "2   [1, 2, 3, 7, 4, 5, 6]   swap (3,4)\n",
    "3   [1, 2, 3, 4, 7, 5, 6]   swap (4,5)\n",
    "4   [1, 2, 3, 4, 5, 7, 6]   swap (5,6)\n",
    "5   [1, 2, 3, 4, 5, 6, 7]\n",
    "It took  swaps to sort the array.\n",
    "\n",
    "Function Description\n",
    "\n",
    "Complete the function minimumSwaps in the editor below. It must return an integer representing the minimum number of swaps to sort the array.\n",
    "\n",
    "minimumSwaps has the following parameter(s):\n",
    "\n",
    "arr: an unordered array of integers\n",
    "Input Format\n",
    "\n",
    "The first line contains an integer, , the size of .\n",
    "The second line contains  space-separated integers .\n",
    "\n",
    "Constraints\n",
    "\n",
    "Output Format\n",
    "\n",
    "Return the minimum number of swaps to sort the given array.\n",
    "\n",
    "Sample Input 0\n",
    "\n",
    "4\n",
    "4 3 1 2\n",
    "Sample Output 0\n",
    "\n",
    "3\n",
    "Explanation 0\n",
    "\n",
    "Given array \n",
    "After swapping  we get \n",
    "After swapping  we get \n",
    "After swapping  we get \n",
    "So, we need a minimum of  swaps to sort the array in ascending order.\n",
    "\n",
    "Sample Input 1\n",
    "\n",
    "5\n",
    "2 3 4 1 5\n",
    "Sample Output 1\n",
    "\n",
    "3\n",
    "Explanation 1\n",
    "\n",
    "Given array \n",
    "After swapping  we get \n",
    "After swapping  we get \n",
    "After swapping  we get \n",
    "So, we need a minimum of  swaps to sort the array in ascending order.\n",
    "\n",
    "Sample Input 2\n",
    "\n",
    "7\n",
    "1 3 5 2 4 6 7\n",
    "Sample Output 2\n",
    "\n",
    "3\n",
    "Explanation 2\n",
    "\n",
    "Given array \n",
    "After swapping  we get \n",
    "After swapping  we get \n",
    "After swapping  we get \n",
    "So, we need a minimum of  swaps to sort the array in ascending order."
   ]
  },
  {
   "cell_type": "code",
   "execution_count": 4,
   "metadata": {},
   "outputs": [
    {
     "data": {
      "text/plain": [
       "[1, 2, 3, 4, 5, 6, 7]"
      ]
     },
     "execution_count": 4,
     "metadata": {},
     "output_type": "execute_result"
    }
   ],
   "source": [
    "tes = sorted(arr)\n",
    "tes"
   ]
  },
  {
   "cell_type": "code",
   "execution_count": 20,
   "metadata": {},
   "outputs": [],
   "source": [
    "def minimumSwaps(arr):\n",
    "    \n",
    "    #principle: trying to swap with maximum impact\n",
    "    #iterations (reads) are cheap, swapping expensive\n",
    "    #if two values can be swapped where both receive terminal position afterwards, perfect\n",
    "    \n",
    "    swaps = 0\n",
    "    min = None\n",
    "\n",
    "    for i in arr:\n",
    "        if min is None or min > i:\n",
    "            min = i\n",
    "            \n",
    "    #defined a min, which is at 0, let's make sure it's at i=0\n",
    "    min_i = arr.index(min)\n",
    "\n",
    "    if min_i != 0:\n",
    "        swap(arr, 0, min_i)\n",
    "        swaps += 1\n",
    "        \n",
    "    #because the minimum is at 0 and they are all consecutive, it's basically an offset\n",
    "    offset = arr[0]\n",
    "\n",
    "    #initializing a dict copy that keeps track of the locations for quick find and swap\n",
    "    index_dict = {v:i for i,v in enumerate(arr)}\n",
    "\n",
    "    #starting at 1, 0 is already placed\n",
    "    i = 0\n",
    "    while i < len(arr)-1:\n",
    "        i += 1\n",
    "        if not proper_place(arr, i, offset):\n",
    "            try:\n",
    "                val = arr[i]\n",
    "                # testing for perfect swap\n",
    "                if arr[val - offset-1] == i:\n",
    "                    swap(arr, i, val-offset)\n",
    "                    swaps += 1\n",
    "                # if no perfect swap, find item that belongs here and swap this one away\n",
    "                else:\n",
    "                    j = index_dict[i+offset]\n",
    "                    index_dict[arr[i]] = j\n",
    "                    swap(arr, i, j)\n",
    "\n",
    "                    swaps += 1\n",
    "            except:\n",
    "                pass\n",
    "    return swaps"
   ]
  },
  {
   "cell_type": "code",
   "execution_count": 21,
   "metadata": {},
   "outputs": [],
   "source": [
    "def proper_place(arr,i,min):\n",
    "    return arr[i] - min == i"
   ]
  },
  {
   "cell_type": "code",
   "execution_count": 22,
   "metadata": {},
   "outputs": [],
   "source": [
    "def swap(arr,a,b):\n",
    "    t = arr[a]\n",
    "    arr[a] = arr[b]\n",
    "    arr[b] = t"
   ]
  },
  {
   "cell_type": "code",
   "execution_count": 23,
   "metadata": {},
   "outputs": [
    {
     "data": {
      "text/plain": [
       "[1, 3, 5, 2, 4, 6, 7]"
      ]
     },
     "execution_count": 23,
     "metadata": {},
     "output_type": "execute_result"
    }
   ],
   "source": [
    "arr = [1,3,5,2,4,6,7]\n",
    "arr"
   ]
  },
  {
   "cell_type": "code",
   "execution_count": 24,
   "metadata": {},
   "outputs": [
    {
     "data": {
      "text/plain": [
       "3"
      ]
     },
     "execution_count": 24,
     "metadata": {},
     "output_type": "execute_result"
    }
   ],
   "source": [
    "minimumSwaps(arr)"
   ]
  },
  {
   "cell_type": "markdown",
   "metadata": {},
   "source": [
    "## SUBMITTED"
   ]
  },
  {
   "cell_type": "code",
   "execution_count": null,
   "metadata": {},
   "outputs": [],
   "source": [
    "def minimumSwaps(arr):\n",
    "    # 1. Initiate Counter\n",
    "    swap_counter = 0\n",
    "    small = None\n",
    "    \n",
    "    for i in arr:\n",
    "        if (small is None) or (small > 1):\n",
    "            small = i\n",
    "    \n",
    "    # 2. Make sure min is at index 0\n",
    "    small_i = arr.index(small)\n",
    "    \n",
    "    # 3. Check if small_i index is not 0 and swap it into 0\n",
    "    if small_i != 0:\n",
    "        swap(arr,0,small_i)\n",
    "        swap_counter += 1\n",
    "    \n",
    "    # 4. Set the minimum element (at index 0) as an offset for the rest of the code\n",
    "    offset = arr[0]\n",
    "    \n",
    "    # 5. Store arr in dictionary to keep track of location for quick swap performance\n",
    "    index_dict = {m:i for i,m in enumerate(arr)}\n",
    "    \n",
    "    # 6. Start the scan at index 1 since index 0 element is well placed\n",
    "    i = 0\n",
    "    \n",
    "    while i < len(arr)-1:\n",
    "        i += 1\n",
    "        if not proper_place(arr,i,offset):\n",
    "            try:\n",
    "                # 6.1. Test for a \"perfect\" swap scenario\n",
    "                val = arr[i]\n",
    "                if arr[val-offset-1] == i:\n",
    "                    swap(arr,i,val-offset)\n",
    "                    swap_counter += 1\n",
    "                # 6.2. If no perfect swap, find item that belongs to i and swap it away\n",
    "                else:\n",
    "                    j = index_dict[i+offset]\n",
    "                    index_dict[arr[i]] = j\n",
    "                    swap(arr,i,j)\n",
    "                    swap_counter += 1\n",
    "            except:\n",
    "                pass\n",
    "    \n",
    "    return swap_counter\n",
    "                    \n",
    "        \n",
    "def swap(arr,a,b):\n",
    "    t = arr[a]\n",
    "    arr[a] = arr[b]\n",
    "    arr[b] = t\n",
    "    \n",
    "def proper_place(arr,i,small):\n",
    "    return arr[i] - small == i"
   ]
  }
 ],
 "metadata": {
  "kernelspec": {
   "display_name": "Python 3",
   "language": "python",
   "name": "python3"
  },
  "language_info": {
   "codemirror_mode": {
    "name": "ipython",
    "version": 3
   },
   "file_extension": ".py",
   "mimetype": "text/x-python",
   "name": "python",
   "nbconvert_exporter": "python",
   "pygments_lexer": "ipython3",
   "version": "3.8.5"
  }
 },
 "nbformat": 4,
 "nbformat_minor": 4
}
