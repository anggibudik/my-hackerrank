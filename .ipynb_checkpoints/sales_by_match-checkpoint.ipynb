{
 "cells": [
  {
   "cell_type": "markdown",
   "metadata": {},
   "source": [
    "___\n",
    "# **Sales by Match: How many pairs of matching-colored socks can Alex sell?**\n",
    "\n",
    "by: [AnggiBK](https://github.com/anggibudik)\n",
    "\n",
    "One of the very basic *algorithm implementation practice* in [HackerRank](https://www.hackerrank.com/challenges/bon-appetit/problem)\n",
    "___"
   ]
  },
  {
   "cell_type": "markdown",
   "metadata": {},
   "source": [
    "## **1. Problem Description**\n",
    "\n",
    "Alex works at a clothing store. There is a large pile of socks that must be paired by color for sale. Given an array of integers representing the color of each sock, determine how many pairs of socks with matching colors there are.\n",
    "\n",
    "For example, there are $ n = 7 $ socks with colors $ ar = [1,2,1,2,1,3,2] $. There is one pair of color $ 1 $ and one of color $ 2 $. There are three odd socks left, one of each color. The number of pairs is **2**.\n",
    "\n",
    "***Function Description***\n",
    "\n",
    "Complete the sockMerchant function in the editor below. It must return an integer representing the number of matching pairs of socks that are available.\n",
    "\n",
    "sockMerchant has the following parameter(s):\n",
    "\n",
    "- n: the number of socks in the pile\n",
    "- ar: the colors of each sock\n",
    "\n",
    "***Input Format***\n",
    "\n",
    "The first line contains an integer ***n***, the number of socks represented in ***ar***.\n",
    "<br>\n",
    "<br> The second line contains ***n*** space-separated integers describing the colors $ ar[i] $ of the socks in the pile.\n",
    "\n",
    "***Constraints***\n",
    "\n",
    "- $ 1 \\le n \\le 100 $\n",
    "- $ 1 \\le ar[i] \\le 100 $ where $ 0 \\le i < n $\n",
    "\n",
    "***Output Format***\n",
    "\n",
    "Return the total number of matching pairs of socks that Alex can sell."
   ]
  },
  {
   "cell_type": "markdown",
   "metadata": {},
   "source": [
    "## **2. Solution**"
   ]
  },
  {
   "cell_type": "markdown",
   "metadata": {},
   "source": [
    "*Note :* <br>\n",
    "Since I use Jupyterlab kernel, there's no need to import libraries below. But if you use a certain version of Python and in need to import them, simply uncomment the code below."
   ]
  },
  {
   "cell_type": "code",
   "execution_count": 1,
   "metadata": {},
   "outputs": [],
   "source": [
    "# import math\n",
    "# import os\n",
    "# import random\n",
    "# import re\n",
    "# import sys"
   ]
  },
  {
   "cell_type": "markdown",
   "metadata": {},
   "source": [
    "#### *sockMerchant function*\n",
    "\n",
    "We all know that there are many ways to solve a problem. I could use numpy or pandas if I want. But here, I use a very fundamental way of thinking without using any non-standard library. <br>\n",
    "\n",
    "The solution idea is as follows:\n",
    "- Create a new 'dummy' list with the same length as user input ***ar***\n",
    "- For each item in ***ar***, count how many time does that item occur from its index position and below\n",
    "- If the count has an even number, which can be divided evenly by 2, then add the counter on\n",
    "- The final accumulation of the counter returns a total number of item that has its pair (representing the pair of socks)"
   ]
  },
  {
   "cell_type": "code",
   "execution_count": 2,
   "metadata": {},
   "outputs": [],
   "source": [
    "def sockMerchant(n, ar):\n",
    "    \n",
    "    accum = [0]*len(ar) # len(ar) is basically n, but I don't trust such naive input like n, so I use len instead\n",
    "    pair = 0\n",
    "    for i in range(len(ar)):\n",
    "        # count the occurence of each unique sock numbers within index range [:i+1]\n",
    "        accum[i] = ar[:i+1].count(ar[i])\n",
    "\n",
    "        # if the count is modulo 2 (i.e. the pair of sock is found), add the pair counter\n",
    "        if accum[i] % 2 == 0:\n",
    "            pair += 1\n",
    "\n",
    "    return pair"
   ]
  },
  {
   "cell_type": "markdown",
   "metadata": {},
   "source": [
    "#### *main input-output function*"
   ]
  },
  {
   "cell_type": "markdown",
   "metadata": {},
   "source": [
    "*Note:* <br>\n",
    "I'm slightly modified the original code provided in hackerrank (commented out) because it doesn't work here. At least I'm not gonna try to solve it for now. <br>\n",
    "But the input-output behavior is the same, regardless."
   ]
  },
  {
   "cell_type": "code",
   "execution_count": 3,
   "metadata": {},
   "outputs": [
    {
     "name": "stdin",
     "output_type": "stream",
     "text": [
      " 9\n",
      " 10 20 20 10 10 30 50 10 20\n"
     ]
    },
    {
     "name": "stdout",
     "output_type": "stream",
     "text": [
      "3\n"
     ]
    }
   ],
   "source": [
    "if __name__ == '__main__':\n",
    "#     fptr = open(os.environ['OUTPUT_PATH'], 'w')\n",
    "\n",
    "    n = int(input())\n",
    "\n",
    "    ar = list(map(int, input().rstrip().split()))\n",
    "\n",
    "    result = sockMerchant(n, ar)\n",
    "\n",
    "#     fptr.write(str(result) + '\\n')\n",
    "\n",
    "#     fptr.close()\n",
    "\n",
    "    print(result)"
   ]
  }
 ],
 "metadata": {
  "kernelspec": {
   "display_name": "data-science",
   "language": "python",
   "name": "data-science"
  },
  "language_info": {
   "codemirror_mode": {
    "name": "ipython",
    "version": 3
   },
   "file_extension": ".py",
   "mimetype": "text/x-python",
   "name": "python",
   "nbconvert_exporter": "python",
   "pygments_lexer": "ipython3",
   "version": "3.7.9"
  }
 },
 "nbformat": 4,
 "nbformat_minor": 4
}
