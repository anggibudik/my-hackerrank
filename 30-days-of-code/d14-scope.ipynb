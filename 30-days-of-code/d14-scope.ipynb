{
 "cells": [
  {
   "cell_type": "markdown",
   "id": "3ef80eaa-4d4b-4100-9c11-78f42d111136",
   "metadata": {},
   "source": [
    "Objective\n",
    "Today we're discussing scope. Check out the Tutorial tab for learning materials and an instructional video!\n",
    "\n",
    "The absolute difference between two integers,  and , is written as . The maximum absolute difference between two integers in a set of positive integers, , is the largest absolute difference between any two integers in .\n",
    "\n",
    "The Difference class is started for you in the editor. It has a private integer array () for storing  non-negative integers, and a public integer () for storing the maximum absolute difference.\n",
    "\n",
    "Task\n",
    "Complete the Difference class by writing the following:\n",
    "\n",
    "A class constructor that takes an array of integers as a parameter and saves it to the  instance variable.\n",
    "A computeDifference method that finds the maximum absolute difference between any  numbers in  and stores it in the  instance variable.\n",
    "Input Format\n",
    "\n",
    "You are not responsible for reading any input from stdin. The locked Solution class in the editor reads in  lines of input. The first line contains , the size of the elements array. The second line has  space-separated integers that describe the  array.\n",
    "\n",
    "Constraints\n",
    "\n",
    ", where \n",
    "Output Format\n",
    "\n",
    "You are not responsible for printing any output; the Solution class will print the value of the  instance variable.\n",
    "\n",
    "Sample Input\n",
    "\n",
    "STDIN   Function\n",
    "-----   --------\n",
    "3       __elements[] size N = 3\n",
    "1 2 5   __elements = [1, 2, 5]\n",
    "Sample Output\n",
    "\n",
    "4\n",
    "Explanation\n",
    "\n",
    "The scope of the  array and  integer is the entire class instance. The class constructor saves the argument passed to the constructor as the  instance variable (where the computeDifference method can access it).\n",
    "\n",
    "To find the maximum difference, computeDifference checks each element in the array and finds the maximum difference between any  elements: \n",
    "\n",
    "\n",
    "The maximum of these differences is , so it saves the value  as the  instance variable. The locked stub code in the editor then prints the value stored as , which is ."
   ]
  },
  {
   "cell_type": "code",
   "execution_count": null,
   "id": "b5b4ac5a-9ac2-44eb-bb90-1db136086b8c",
   "metadata": {},
   "outputs": [],
   "source": [
    "class Difference:\n",
    "    def __init__(self, a):\n",
    "        self.__elements = a\n",
    "\n",
    "\t# Add your code here\n",
    "\n",
    "# End of Difference class\n",
    "\n",
    "_ = input()\n",
    "a = [int(e) for e in input().split(' ')]\n",
    "\n",
    "d = Difference(a)\n",
    "d.computeDifference()\n",
    "\n",
    "print(d.maximumDifference)"
   ]
  }
 ],
 "metadata": {
  "kernelspec": {
   "display_name": "Python 3",
   "language": "python",
   "name": "python3"
  },
  "language_info": {
   "codemirror_mode": {
    "name": "ipython",
    "version": 3
   },
   "file_extension": ".py",
   "mimetype": "text/x-python",
   "name": "python",
   "nbconvert_exporter": "python",
   "pygments_lexer": "ipython3",
   "version": "3.8.5"
  }
 },
 "nbformat": 4,
 "nbformat_minor": 5
}
