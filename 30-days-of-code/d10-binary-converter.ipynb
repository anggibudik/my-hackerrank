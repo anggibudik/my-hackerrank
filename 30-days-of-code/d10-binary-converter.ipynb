{
 "cells": [
  {
   "cell_type": "markdown",
   "metadata": {},
   "source": [
    "___\n",
    "# **Binary Numbers**\n",
    "\n",
    "by: [AnggiBK](https://github.com/anggibudik)\n",
    "\n",
    "\"30 Days of Code\" on *Basic Tutorial and Practice* in [HackerRank](https://www.hackerrank.com/domains/tutorials/30-days-of-code)\n",
    "\n",
    "*Topic: Binary Conversion (from base-ten to base-two) and the Maximum Consecutive Ones*\n",
    "\n",
    "```\n",
    "The description below is copied from the respective page in HackerRank.\n",
    "```\n",
    "\n",
    "*Additional Note:*<br>\n",
    "If you aren't familiar with binary, check out one of the following articles:\n",
    "- Binary Number System ([purplemath](https://www.purplemath.com/modules/numbbase.htm))\n",
    "- Basic of Binary Numbers ([Khan Academy](https://www.khanacademy.org/computing/computers-and-internet/xcae6f4a7ff015e7d:digital-information/xcae6f4a7ff015e7d:binary-numbers/a/bits-and-binary))\n",
    "\n",
    "___\n",
    "\n",
    "## 1. Problem Description\n",
    "\n",
    "**Objective**\n",
    "\n",
    "Here, we're working with binary numbers. Check out the [Tutorial](https://www.hackerrank.com/challenges/30-binary-numbers/tutorial) tab for learning materials and an instructional video!\n",
    "\n",
    "**Task**\n",
    "\n",
    "Given a base-**10** integer $n$ , convert it to binary (base-**2**). Then find and print the base-**10** integer denoting the maximum number of consecutive **1**'s in $n$'s binary representation. When working with different bases, it is common to show the base as a subscript.\n",
    "\n",
    "Example\n",
    "\n",
    "$n = 125$\n",
    "\n",
    "The binary representation of $125_{10}$ is $11111101_2$. In base $10$, there are $5$ and $1$ consecutive ones in two groups. Print the maximum, $5$.\n",
    "\n",
    "**Input Format**\n",
    "\n",
    "A single integer $n$.\n",
    "\n",
    "**Constraints**\n",
    "\n",
    "$ 1 \\le n \\le 10^5 $\n",
    "\n",
    "**Output Format**\n",
    "\n",
    "Print a single base-$10$ integer that denotes the maximum number of consecutive $1$'s in the binary representation of $n$.\n",
    "\n",
    "**Sample Input 1**\n",
    "\n",
    "`1932`\n",
    "\n",
    "**Sample Output 1**\n",
    "\n",
    "`4`\n",
    "\n",
    "**Sample Input 2**\n",
    "\n",
    "`13`\n",
    "\n",
    "**Sample Output 2**\n",
    "\n",
    "`2`\n",
    "\n",
    "**Explanation**\n",
    "\n",
    "Sample Case 1:\n",
    "<br>\n",
    "The binary representation of $1932_{10}$ is $11110001100_2$, so the maximum number of consecutive $1$'s is $4$.\n",
    "\n",
    "Sample Case 2:\n",
    "<br>\n",
    "The binary representation of $13_{10}$ is $1101_2$, so the maximum number of consecutive $1$'s is $2$."
   ]
  },
  {
   "cell_type": "markdown",
   "metadata": {},
   "source": [
    "## 2. Solution\n",
    "\n",
    "This case has several interesting methods you can use. Here, I provide those possible options I had in mind $-$ from the *very basic* way to **python-ish** ways :)"
   ]
  },
  {
   "cell_type": "markdown",
   "metadata": {},
   "source": [
    "### 2.1. Method 1: Loop Function\n",
    "\n",
    "This is the very basic algorithm that a beginner might have in mind.\n",
    "\n",
    "The loop function basically calculates the accumulation of each binary value consecutively and put the result into an integer list.\n",
    "\n",
    "First, convert the input integer into binary and put it into a list:"
   ]
  },
  {
   "cell_type": "code",
   "execution_count": 1,
   "metadata": {},
   "outputs": [
    {
     "name": "stdin",
     "output_type": "stream",
     "text": [
      " 125\n"
     ]
    }
   ],
   "source": [
    "if __name__ == '__main__':\n",
    "    \n",
    "    n = int(input())\n",
    "    b = bin(n).replace(\"0b\",\"\")\n",
    "    \n",
    "    test = list(map(int,b))\n",
    "    \n",
    "    # or, use this comprehensive one-line loop:\n",
    "#     test = [int(i) for i in b]"
   ]
  },
  {
   "cell_type": "markdown",
   "metadata": {},
   "source": [
    " Then, create another list that contains the consecutive accumulation of 1's. If there is any 0, the count is resetted."
   ]
  },
  {
   "cell_type": "code",
   "execution_count": 2,
   "metadata": {},
   "outputs": [],
   "source": [
    "acc = []\n",
    "count = 0\n",
    "for i in range(len(test)):\n",
    "    count += test[i]\n",
    "    acc.append(count)\n",
    "    if (i > 0) and (acc[i] == acc[i-1]):\n",
    "        acc[i] = 0\n",
    "        count = 0"
   ]
  },
  {
   "cell_type": "markdown",
   "metadata": {},
   "source": [
    "Then, return the maximum value in the list and print it:"
   ]
  },
  {
   "cell_type": "code",
   "execution_count": 3,
   "metadata": {},
   "outputs": [
    {
     "name": "stdout",
     "output_type": "stream",
     "text": [
      "5\n"
     ]
    }
   ],
   "source": [
    "print(max(acc))"
   ]
  },
  {
   "cell_type": "markdown",
   "metadata": {},
   "source": [
    "**Alternatively, you can also write it as a function for a more neat code:**"
   ]
  },
  {
   "cell_type": "code",
   "execution_count": 4,
   "metadata": {},
   "outputs": [],
   "source": [
    "def binConverter(n):\n",
    "    \n",
    "    b = [int(i) for i in (bin(n).replace(\"0b\",\"\"))]\n",
    "    \n",
    "    acc = []\n",
    "    count = 0\n",
    "    for i in range(len(b)):\n",
    "        count += b[i]\n",
    "        acc.append(count)\n",
    "        if (i > 0) and (acc[i] == acc[i-1]):\n",
    "            acc[i] = 0\n",
    "            count = 0\n",
    "    print(max(acc))"
   ]
  },
  {
   "cell_type": "code",
   "execution_count": 5,
   "metadata": {},
   "outputs": [
    {
     "name": "stdin",
     "output_type": "stream",
     "text": [
      " 125\n"
     ]
    },
    {
     "name": "stdout",
     "output_type": "stream",
     "text": [
      "5\n"
     ]
    }
   ],
   "source": [
    "if __name__ == '__main__':\n",
    "    n = int(input())\n",
    "    binConverter(n)"
   ]
  },
  {
   "cell_type": "markdown",
   "metadata": {},
   "source": [
    "### 2.2. Method 2: Use split() and len(), and max() functions in One Line\n",
    "\n",
    "This one is my favorite, and the one that first came in my mind when facing this case.\n",
    "\n",
    "First, here is the one-line code:"
   ]
  },
  {
   "cell_type": "code",
   "execution_count": 6,
   "metadata": {},
   "outputs": [
    {
     "name": "stdin",
     "output_type": "stream",
     "text": [
      " 125\n"
     ]
    },
    {
     "name": "stdout",
     "output_type": "stream",
     "text": [
      "5\n"
     ]
    }
   ],
   "source": [
    "print(max([len(i) for i in bin(int(input()))[2:].split('0')]))"
   ]
  },
  {
   "cell_type": "markdown",
   "metadata": {},
   "source": [
    "**The breakdown version is as follows:**"
   ]
  },
  {
   "cell_type": "code",
   "execution_count": 7,
   "metadata": {},
   "outputs": [
    {
     "name": "stdin",
     "output_type": "stream",
     "text": [
      " 125\n"
     ]
    }
   ],
   "source": [
    "if __name__ == '__main__':\n",
    "    # 1. Input integer\n",
    "    n = int(input())\n",
    "    \n",
    "    # 2. Convert input into binary, then split them with each 0 that occur\n",
    "    b = bin(n)[2:].split('0')"
   ]
  },
  {
   "cell_type": "markdown",
   "metadata": {},
   "source": [
    "Note that `[2:]` is very important to remove the `0b` in the first two elements that naturally occurs when you use bin() to convert int to bin.\n",
    "\n",
    "The following code also gives a similar result:\n",
    "`in(n).replace(\"0b\",\"\").split('0')`\n",
    "\n",
    "Next:"
   ]
  },
  {
   "cell_type": "code",
   "execution_count": 8,
   "metadata": {},
   "outputs": [
    {
     "name": "stdout",
     "output_type": "stream",
     "text": [
      "5\n"
     ]
    }
   ],
   "source": [
    "    # 3. Count the length of each element of 1's and put them in m list\n",
    "    m = [len(i) for i in b]\n",
    "    \n",
    "    # 4. Print the maximum consecutive 1's\n",
    "    print(max(m))"
   ]
  },
  {
   "cell_type": "markdown",
   "metadata": {},
   "source": [
    "**Here is another alternative way for one-line coding without using any loop:**"
   ]
  },
  {
   "cell_type": "code",
   "execution_count": 9,
   "metadata": {},
   "outputs": [
    {
     "name": "stdin",
     "output_type": "stream",
     "text": [
      " 125\n"
     ]
    },
    {
     "name": "stdout",
     "output_type": "stream",
     "text": [
      "5\n"
     ]
    }
   ],
   "source": [
    "print(len(max(bin(int(input().strip()))[2:].split('0'))))"
   ]
  },
  {
   "cell_type": "markdown",
   "metadata": {},
   "source": [
    "I found a good explanation by one of Hackerrank user, kristalknight8, in the [discussion](https://www.hackerrank.com/challenges/30-binary-numbers/forum) tab in which he/she explained the exact same one-line code above. I recite his/her explanation as follows:"
   ]
  },
  {
   "cell_type": "markdown",
   "metadata": {},
   "source": [
    "Assuming the $n$ input is $13$,\n",
    "\n",
    "1. `int(input().strip())` : this code takes the input of the number and strips any spaces on either side, e.g. `int('13'.strip())` , then converts it from string to integer. The result is the integer $13$.\n",
    "\n",
    "2. `bin(13)[2:].split('0')` : the bin() method takes a number and converts it to binary. In this case, it returns `'0b1101'` when you enter `bin(13)` . The `[2:]` allows us to omit the `'0b'` at the beginning of the string, which then leaves us with `'1101'.split('0')`. This string method takes `'1101'` and splits it into a list. We end up with `['11','1']`.\n",
    "\n",
    "3. `len(max(['11','1']))` : the max() method is simply going to look for the biggest value. In this case the biggest one is '11'. '11' is passed to the len() method which just returns the length of the object in it. In this case the object is the string `'11'` which has two characters, so `len('11')` returns $2$ which, in turns, is also the longest consecutive amount of ones."
   ]
  },
  {
   "cell_type": "markdown",
   "metadata": {},
   "source": [
    "### 2.3. Method 3: Use Regular Expression Operation (re)\n",
    "\n",
    "You can also use regular expression (re) to split the $1$'s by $0$ in the binary, then return the maximum length value, len(), of those 1's that had been splitted $-$ just like what we did in the previous method.\n",
    "\n",
    "For that, you need to import re library first."
   ]
  },
  {
   "cell_type": "code",
   "execution_count": 10,
   "metadata": {},
   "outputs": [],
   "source": [
    "import re"
   ]
  },
  {
   "cell_type": "markdown",
   "metadata": {},
   "source": [
    "Here is the one-line python-ish code:"
   ]
  },
  {
   "cell_type": "code",
   "execution_count": 11,
   "metadata": {},
   "outputs": [
    {
     "name": "stdin",
     "output_type": "stream",
     "text": [
      " 1932\n"
     ]
    },
    {
     "name": "stdout",
     "output_type": "stream",
     "text": [
      "4\n"
     ]
    }
   ],
   "source": [
    "print(len(max(re.split(\"0+\",bin(int(input().strip()))[2:]))))"
   ]
  },
  {
   "cell_type": "markdown",
   "metadata": {},
   "source": [
    "The explanation would be more or less the same with the previous method, and you can always break it down into a more readable version."
   ]
  }
 ],
 "metadata": {
  "kernelspec": {
   "display_name": "Python 3",
   "language": "python",
   "name": "python3"
  },
  "language_info": {
   "codemirror_mode": {
    "name": "ipython",
    "version": 3
   },
   "file_extension": ".py",
   "mimetype": "text/x-python",
   "name": "python",
   "nbconvert_exporter": "python",
   "pygments_lexer": "ipython3",
   "version": "3.8.5"
  }
 },
 "nbformat": 4,
 "nbformat_minor": 4
}
