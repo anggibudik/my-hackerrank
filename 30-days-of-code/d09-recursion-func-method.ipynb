{
 "cells": [
  {
   "cell_type": "markdown",
   "metadata": {},
   "source": [
    "___\n",
    "# **Recursion Method**\n",
    "\n",
    "by: [AnggiBK](https://github.com/anggibudik)\n",
    "\n",
    "\"30 Days of Code\" on *Basic Tutorial and Practice* in [HackerRank](https://www.hackerrank.com/domains/tutorials/30-days-of-code)\n",
    "\n",
    "*Topic: Recursive Method for Calculating Factorial*\n",
    "```\n",
    "The description below is copied from the respective page in HackerRank.\n",
    "```\n",
    "___\n",
    "\n",
    "## 1. Problem Description\n",
    "\n",
    "**Task**\n",
    "\n",
    "Complete the *factorial* function below. Be sure to use recursion.\n",
    "\n",
    "For $ N > 1 $, $ factorial(N) = N \\times factorial(N-1) $\n",
    "\n",
    "otherwise, $ factorial(N) = 1 $\n",
    "\n",
    "**Function Description**\n",
    "\n",
    "The *factorial* function has the following parameter:\n",
    "\n",
    "$n$: an integer\n",
    "\n",
    "**Returns**\n",
    "\n",
    "int: the factorial of $n$\n",
    "\n",
    "*Note:* If you fail to use recursion or fail to name your recursive function factorial or Factorial, you will get a score of $0$.\n",
    "\n",
    "**Input Format**\n",
    "\n",
    "A single integer, $n$ (the argument to pass to factorial).\n",
    "\n",
    "**Constraints**\n",
    "\n",
    "- $ 2 \\le n \\le 12 $\n",
    "- Your submission must contain a recursive function named factorial.\n",
    "\n",
    "**Sample Input**\n",
    "\n",
    "`3`\n",
    "\n",
    "**Sample Output**\n",
    "\n",
    "`6`\n",
    "\n",
    "**Explanation**\n",
    "\n",
    "Consider the following steps. After the recursive calls from step 1 to 3, results are accumulated from step 3 to 1.\n",
    "\n",
    "1. $ factorial(3) = 3 \\times factorial(2) = 3 \\times 2 = 6 $\n",
    "2. $ factorial(2) = 2 \\times factorial(1) = 2 \\times 1 = 2 $\n",
    "3. $ factorial(1) = 1 $\n"
   ]
  },
  {
   "cell_type": "markdown",
   "metadata": {},
   "source": [
    "## 2. Solution\n",
    "\n",
    "This basic tutorial has some ways to solve, depending on one's logical thinking. My solution for *factorial* function has the following behavior:\n",
    "\n",
    "Return $n \\times factorial(n-1)$. Notice that I recall the function inside the function itself. This would create \"loop\" until a designated conditional statement is reached, which is: if $n = 0$, return $1$\n",
    "\n",
    "It would be easy for some of us to think of using loop at first. However, the simplest available method is nicer. In programming that requires recursion, always think of *for loop* as a *second* choice because it generally consumes more memory."
   ]
  },
  {
   "cell_type": "code",
   "execution_count": null,
   "metadata": {},
   "outputs": [],
   "source": [
    "# import math\n",
    "# import os\n",
    "# import random\n",
    "# import re\n",
    "# import sys"
   ]
  },
  {
   "cell_type": "code",
   "execution_count": 2,
   "metadata": {},
   "outputs": [],
   "source": [
    "def factorial(n):\n",
    "    if n == 0:\n",
    "        return 1\n",
    "    else:\n",
    "        return n * factorial(n-1)"
   ]
  },
  {
   "cell_type": "code",
   "execution_count": 4,
   "metadata": {},
   "outputs": [
    {
     "name": "stdin",
     "output_type": "stream",
     "text": [
      " 4\n"
     ]
    },
    {
     "name": "stdout",
     "output_type": "stream",
     "text": [
      "24\n"
     ]
    }
   ],
   "source": [
    "if __name__ == '__main__':\n",
    "#     fptr = open(os.environ['OUTPUT_PATH'], 'w')\n",
    "\n",
    "    n = int(input())\n",
    "\n",
    "    result = factorial(n)\n",
    "\n",
    "#     fptr.write(str(result) + '\\n')\n",
    "\n",
    "#     fptr.close()\n",
    "\n",
    "    print(result)"
   ]
  }
 ],
 "metadata": {
  "kernelspec": {
   "display_name": "data-science",
   "language": "python",
   "name": "data-science"
  },
  "language_info": {
   "codemirror_mode": {
    "name": "ipython",
    "version": 3
   },
   "file_extension": ".py",
   "mimetype": "text/x-python",
   "name": "python",
   "nbconvert_exporter": "python",
   "pygments_lexer": "ipython3",
   "version": "3.7.9"
  }
 },
 "nbformat": 4,
 "nbformat_minor": 4
}
