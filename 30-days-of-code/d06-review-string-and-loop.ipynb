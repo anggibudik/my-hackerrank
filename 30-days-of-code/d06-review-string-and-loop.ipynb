{
 "cells": [
  {
   "cell_type": "markdown",
   "metadata": {},
   "source": [
    "___\n",
    "# **Review: String and Loop**\n",
    "\n",
    "by: [AnggiBK](https://github.com/anggibudik)\n",
    "\n",
    "\"30 Days of Code\" on *Basic Tutorial and Practice* in [HackerRank](https://www.hackerrank.com/domains/tutorials/30-days-of-code)\n",
    "\n",
    "*Topic: String, Index, and Loop (review)*\n",
    "```\n",
    "The description below is copied from the respective page in HackerRank.\n",
    "```\n",
    "___\n",
    "\n",
    "## 1. Problem Description\n",
    "\n",
    "**Objective**\n",
    "\n",
    "Today we will expand our knowledge of strings, combining it with what we have already learned about loops. Check out the [Tutorial](https://www.hackerrank.com/challenges/30-review-loop/tutorial) tab for learning materials and an instructional video.\n",
    "\n",
    "**Task**\n",
    "Given a string $ S $ of length $ N $ that is indexed from $ 0 $ to $ N - 1 $, print its even-indexed and odd-indexed characters as $ 2 $ space-separated strings on a single line (see the Sample below for more detail).\n",
    "\n",
    "Note: $ 0 $ is considered to be an even index.\n",
    "\n",
    "**Example**\n",
    "\n",
    "$ s = $ adbecf\n",
    "\n",
    "Output Print: `abc def`\n",
    "\n",
    "**Input Format**\n",
    "\n",
    "The first line contains an integer, $ T $ (the number of test cases).\n",
    "Each line $ i $ of the $ T $ subsequent lines contain a string $ S $.\n",
    "\n",
    "**Constraints**\n",
    "\n",
    "- $ 1 \\le T \\le 10 $\n",
    "- $ 2 \\le \\rm{length \\; of} \\; S \\le 10000 $\n",
    "\n",
    "**Output Format**\n",
    "\n",
    "For each String $ S_j $ (where $ 0 \\le j \\le T - 1 $), print $ S_j $'s even-indexed characters, followed by a space, followed by $ S_j $'s odd-indexed characters.\n",
    "\n",
    "**Sample Input**\n",
    "\n",
    "```\n",
    "2\n",
    "Hacker\n",
    "Rank\n",
    "```\n",
    "\n",
    "**Sample Output**\n",
    "\n",
    "```\n",
    "Hce akr\n",
    "Rn ak\n",
    "```\n",
    "\n",
    "**Explanation**\n",
    "\n",
    "Test Case 0: ` S = Hacker`\n",
    "\n",
    "$ S[0] = $ \"H\" <br>\n",
    "$ S[1] = $ \"a\" <br>\n",
    "$ S[2] = $ \"c\" <br>\n",
    "$ S[3] = $ \"k\" <br>\n",
    "$ S[4] = $ \"e\" <br>\n",
    "$ S[5] = $ \"r\" <br>\n",
    "\n",
    "The even indices are 0, 2, and 4, and the odd indices are 1, 3, and 5. We then print a single line of 2 space-separated strings; the first string contains the ordered characters from $ S $'s even indices (**Hce**), and the second string contains the ordered characters from $ S $'s odd indices (**akr**).\n",
    "\n",
    "Test Case 1: ` S = Rank`\n",
    "\n",
    "$ S[0] = $ \"R\" <br>\n",
    "$ S[1] = $ \"a\" <br>\n",
    "$ S[2] = $ \"n\" <br>\n",
    "$ S[3] = $ \"k\" <br>\n",
    "\n",
    "The even indices are 0 and 2, and the odd indices are 1 and 3. We then print a single line of 2 space-separated strings; the first string contains the ordered characters from $ S $'s even indices (**Rn**), and the second string contains the ordered characters from $ S $'s odd indices (**ak**)."
   ]
  },
  {
   "cell_type": "markdown",
   "metadata": {},
   "source": [
    "## 2. Solution\n",
    "\n",
    "Since it's a simple case for review, no need to put any extra explanation."
   ]
  },
  {
   "cell_type": "code",
   "execution_count": 6,
   "metadata": {},
   "outputs": [
    {
     "name": "stdin",
     "output_type": "stream",
     "text": [
      " 2\n",
      " Hacker\n"
     ]
    },
    {
     "name": "stdout",
     "output_type": "stream",
     "text": [
      "Hce akr\n"
     ]
    },
    {
     "name": "stdin",
     "output_type": "stream",
     "text": [
      " Rank\n"
     ]
    },
    {
     "name": "stdout",
     "output_type": "stream",
     "text": [
      "Rn ak\n"
     ]
    }
   ],
   "source": [
    "t = int(input())\n",
    "for i in range(0,t):\n",
    "    word = input()\n",
    "    odd = \"\"\n",
    "    even = \"\"\n",
    "    for j in range(0,len(word)):\n",
    "        if j % 2 == 0:\n",
    "            even += word[j]\n",
    "        else:\n",
    "            odd += word[j]\n",
    "    print(even + \" \" + odd)"
   ]
  }
 ],
 "metadata": {
  "kernelspec": {
   "display_name": "data-science",
   "language": "python",
   "name": "data-science"
  },
  "language_info": {
   "codemirror_mode": {
    "name": "ipython",
    "version": 3
   },
   "file_extension": ".py",
   "mimetype": "text/x-python",
   "name": "python",
   "nbconvert_exporter": "python",
   "pygments_lexer": "ipython3",
   "version": "3.7.9"
  }
 },
 "nbformat": 4,
 "nbformat_minor": 4
}
