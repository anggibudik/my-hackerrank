{
 "cells": [
  {
   "cell_type": "markdown",
   "metadata": {},
   "source": [
    "___\n",
    "# **Class vs Instance**\n",
    "\n",
    "by: [AnggiBK](https://github.com/anggibudik)\n",
    "\n",
    "\"30 Days of Code\" on *Basic Tutorial and Practice* in [HackerRank](https://www.hackerrank.com/domains/tutorials/30-days-of-code)\n",
    "\n",
    "*Topic: Class and Instance (basic)*\n",
    "```\n",
    "This is a very fundamental practice to understand the concept of class and instance: how class works and how a variable(s) is handled among the instances in that class.\n",
    "\n",
    "The description below is copied from the respective page in HackerRank.\n",
    "```\n",
    "___\n",
    "\n",
    "## 1. Problem Description\n",
    "\n",
    "**Objective**\n",
    "\n",
    "In this challenge, we're going to learn about the difference between a class and an instance; because this is an Object Oriented concept, it's only enabled in certain languages. Check out the [Tutorial](https://www.hackerrank.com/challenges/30-class-vs-instance/tutorial) tab for learning materials and an instructional video!\n",
    "\n",
    "Task\n",
    "Write a Person class with an instance variable, $ age $ , and a constructor that takes an integer, $ initialAge $, as a parameter. The constructor must assign $ initialAge $ to $ age $ after confirming the argument passed as $ initialAge $ is not negative; if a negative argument is passed as $ initialAge $, the constructor should set $ age $ to $ 0 $ and print `Age is not valid, setting age to 0.`\n",
    "\n",
    "In addition, you must write the following instance methods:\n",
    "\n",
    "1. *yearPasses()* should increase the $ age $ instance variable by $ 1 $.\n",
    "2. *amIOld()* should perform the following conditional actions:\n",
    " - If $ age $ $ < $ 13, print `You are young.`.\n",
    " - If 13 $ \\le $ $ age $ $ < $ 18, print `You are a teenager.`.\n",
    " - Otherwise, print `You are old.`.\n",
    " \n",
    "To help you learn by example and complete this challenge, much of the code is provided for you, but you'll be writing everything in the future. The code that creates each instance of your Person class is in the main method. Don't worry if you don't understand it all quite yet!\n",
    "\n",
    "**Note**: Do not remove or alter the stub code in the editor.\n",
    "\n",
    "**Input Format**\n",
    "\n",
    "Input is handled for you by the stub code in the editor.\n",
    "\n",
    "The first line contains an integer, $T$ (the number of test cases), and the $T$ subsequent lines each contain an integer denoting the $age$ of a Person instance.\n",
    "\n",
    "**Constraints**\n",
    "\n",
    "- $ 1 \\le T \\le 4 $\n",
    "- $ -5 \\le \\rm{age} \\le 30 $\n",
    "\n",
    "**Output Format**\n",
    "\n",
    "Complete the method definitions provided in the editor so they meet the specifications outlined above; the code to test your work is already in the editor. If your methods are implemented correctly, each test case will print $2$ or $3$ lines (depending on whether or not a valid $initialAge$ was passed to the constructor).\n",
    "\n",
    "**Sample Input**\n",
    "```\n",
    "4\n",
    "-1\n",
    "10\n",
    "16\n",
    "18\n",
    "```\n",
    "**Sample Output**\n",
    "```\n",
    "Age is not valid, setting age to 0.\n",
    "You are young.\n",
    "You are young.\n",
    "\n",
    "You are young.\n",
    "You are a teenager.\n",
    "\n",
    "You are a teenager.\n",
    "You are old.\n",
    "\n",
    "You are old.\n",
    "You are old.\n",
    "```\n",
    "\n",
    "**Explanation**\n",
    "\n",
    "Test Case 0: `initialAge = -1`\n",
    "Because $initialAge < 0$, our code must set $age$ to $0$ and print the \"Age is not valid...\" message followed by the young message. Three years pass and $age = 3$, so we print the young message again.\n",
    "\n",
    "Test Case 1: `initialAge = 10`\n",
    "Because $initialAge < 13$, our code should print that the person is young. Three years pass and $age = 13$, so we print that the person is now a teenager.\n",
    "\n",
    "Test Case 2: `initialAge = 16`\n",
    "Because $13 \\le initialAge < 18$, our code should print that the person is a teenager. Three years pass and $age = 19$, so we print that the person is old.\n",
    "\n",
    "Test Case 3: `initialAge = 18`\n",
    "Because $initialAge \\ge 18$, our code should print that the person is old. Three years pass and the person is still old at $age = 21$, so we print the old message again.\n",
    "\n",
    "**Additional Note**\n",
    "\n",
    "The extra line at the end of the output is supposed to be there and is trimmed before being compared against the test case's expected output. If you're failing this challenge, check your logic and review your print statements for spelling errors."
   ]
  },
  {
   "cell_type": "markdown",
   "metadata": {},
   "source": [
    "## 2. Solution"
   ]
  },
  {
   "cell_type": "code",
   "execution_count": 36,
   "metadata": {},
   "outputs": [],
   "source": [
    "class Person:\n",
    "    def __init__(self,initialAge):\n",
    "        # Add some more code to run some checks on initialAge\n",
    "        if initialAge < 0:\n",
    "            print(\"Age is not valid, setting age to 0.\")\n",
    "            initialAge = 0\n",
    "        self.age = initialAge\n",
    "            \n",
    "    def amIOld(self):\n",
    "        # Do some computations in here and print out the correct statement to the console\n",
    "        if self.age in range(13,18):\n",
    "            print(\"You are a teenager.\")\n",
    "        elif self.age < 13:\n",
    "            print(\"You are young.\")\n",
    "        else:\n",
    "            print(\"You are old.\")\n",
    "        \n",
    "    def yearPasses(self):\n",
    "        # Increment the age of the person in here\n",
    "        self.age += 1"
   ]
  },
  {
   "cell_type": "code",
   "execution_count": 37,
   "metadata": {},
   "outputs": [
    {
     "name": "stdin",
     "output_type": "stream",
     "text": [
      " 4\n",
      " -1\n"
     ]
    },
    {
     "name": "stdout",
     "output_type": "stream",
     "text": [
      "Age is not valid, setting age to 0.\n",
      "You are young.\n",
      "You are young.\n",
      "\n"
     ]
    },
    {
     "name": "stdin",
     "output_type": "stream",
     "text": [
      " 10\n"
     ]
    },
    {
     "name": "stdout",
     "output_type": "stream",
     "text": [
      "You are young.\n",
      "You are a teenager.\n",
      "\n"
     ]
    },
    {
     "name": "stdin",
     "output_type": "stream",
     "text": [
      " 16\n"
     ]
    },
    {
     "name": "stdout",
     "output_type": "stream",
     "text": [
      "You are a teenager.\n",
      "You are old\n",
      "\n"
     ]
    },
    {
     "name": "stdin",
     "output_type": "stream",
     "text": [
      " 18\n"
     ]
    },
    {
     "name": "stdout",
     "output_type": "stream",
     "text": [
      "You are old\n",
      "You are old\n",
      "\n"
     ]
    }
   ],
   "source": [
    "t = int(input())\n",
    "for i in range(0, t):\n",
    "    age = int(input())         \n",
    "    p = Person(age)  \n",
    "    p.amIOld()\n",
    "    for j in range(0, 3):\n",
    "        p.yearPasses()       \n",
    "    p.amIOld()\n",
    "    print(\"\")"
   ]
  }
 ],
 "metadata": {
  "kernelspec": {
   "display_name": "data-science",
   "language": "python",
   "name": "data-science"
  },
  "language_info": {
   "codemirror_mode": {
    "name": "ipython",
    "version": 3
   },
   "file_extension": ".py",
   "mimetype": "text/x-python",
   "name": "python",
   "nbconvert_exporter": "python",
   "pygments_lexer": "ipython3",
   "version": "3.7.9"
  }
 },
 "nbformat": 4,
 "nbformat_minor": 4
}
