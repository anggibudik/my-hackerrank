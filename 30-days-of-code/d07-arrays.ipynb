{
 "cells": [
  {
   "cell_type": "markdown",
   "metadata": {},
   "source": [
    "___\n",
    "# **Arrays**\n",
    "\n",
    "by: [AnggiBK](https://github.com/anggibudik)\n",
    "\n",
    "\"30 Days of Code\" on *Basic Tutorial and Practice* in [HackerRank](https://www.hackerrank.com/domains/tutorials/30-days-of-code)\n",
    "\n",
    "*Topic: Array Data Structure and Elements*\n",
    "```\n",
    "The description below is copied from the respective page in HackerRank.\n",
    "```\n",
    "___\n",
    "\n",
    "## 1. Problem Description\n",
    "\n",
    "**Objective**\n",
    "\n",
    "Today, we will learn about the Array data structure. Check out the [Tutorial](https://www.hackerrank.com/challenges/30-arrays/tutorial) tab for learning materials and an instructional video.\n",
    "\n",
    "**Task**\n",
    "Given an array $A$ of $N$ integers, print $A$'s elements in reverse order as a single line of space-separated numbers.\n",
    "\n",
    "Note: $ 0 $ is considered to be an even index.\n",
    "\n",
    "**Example**\n",
    "\n",
    "$ A = $ [1,2,3,4]\n",
    "\n",
    "Print `4 3 2 1`. Each integer is separated by one space.\n",
    "\n",
    "**Input Format**\n",
    "\n",
    "The first line contains an integer, $ N $ (the size of our array).<br>\n",
    "The second line contains $N$ space-separated integers that describe array $A$'s elements.\n",
    "\n",
    "**Constraints**\n",
    "\n",
    "- $ 1 \\le N \\le 1000 $\n",
    "- $ 1 \\le A[i] \\le 10000 $, where $A[i]$ is the $i^{th}$ integer in the array.\n",
    "\n",
    "**Output Format**\n",
    "\n",
    "Print the elements of array $A$ in reverse order as a single line of space-separated numbers.\n",
    "\n",
    "**Sample Input**\n",
    "\n",
    "```\n",
    "4\n",
    "1 4 3 2\n",
    "```\n",
    "\n",
    "**Sample Output**\n",
    "\n",
    "```\n",
    "2 3 4 1\n",
    "```"
   ]
  },
  {
   "cell_type": "markdown",
   "metadata": {},
   "source": [
    "## 2. Solution\n",
    "\n",
    "This is a simple problem as well, so there is no need to add any detailed explanation.\n",
    "In short, the idea is to return the element index in reverse order and put it in another array with normal order, then print it as a string type."
   ]
  },
  {
   "cell_type": "code",
   "execution_count": null,
   "metadata": {},
   "outputs": [],
   "source": [
    "import math\n",
    "import os\n",
    "import random\n",
    "import re\n",
    "import sys"
   ]
  },
  {
   "cell_type": "code",
   "execution_count": 1,
   "metadata": {},
   "outputs": [],
   "source": [
    "def reverser(arr):\n",
    "    rev = []\n",
    "    for i in range(len(arr)):\n",
    "        # Option 1: return element index based on array length\n",
    "#         rev.append(str(arr[len(arr)-1-i]))\n",
    "        # Option 2: return element index from behind (-1, -2, ...)\n",
    "        rev.append(str(arr[-i-1]))\n",
    "        \n",
    "    print(' '.join(rev))"
   ]
  },
  {
   "cell_type": "code",
   "execution_count": 2,
   "metadata": {},
   "outputs": [
    {
     "name": "stdin",
     "output_type": "stream",
     "text": [
      " 4\n",
      " 5 7 10 400\n"
     ]
    },
    {
     "name": "stdout",
     "output_type": "stream",
     "text": [
      "400 10 7 5\n"
     ]
    }
   ],
   "source": [
    "if __name__ == '__main__':\n",
    "    n = int(input())\n",
    "\n",
    "    arr = list(map(int, input().rstrip().split()))\n",
    "    reverser(arr)"
   ]
  }
 ],
 "metadata": {
  "kernelspec": {
   "display_name": "data-science",
   "language": "python",
   "name": "data-science"
  },
  "language_info": {
   "codemirror_mode": {
    "name": "ipython",
    "version": 3
   },
   "file_extension": ".py",
   "mimetype": "text/x-python",
   "name": "python",
   "nbconvert_exporter": "python",
   "pygments_lexer": "ipython3",
   "version": "3.7.9"
  }
 },
 "nbformat": 4,
 "nbformat_minor": 4
}
