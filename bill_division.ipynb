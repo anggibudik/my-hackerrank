{
 "cells": [
  {
   "cell_type": "markdown",
   "metadata": {},
   "source": [
    "___\n",
    "# **Bill Division: Split Bill for Anna and Brian**\n",
    "\n",
    "by: [AnggiBK](https://github.com/anggibudik)\n",
    "\n",
    "One of the very basic *algorithm implementation practice* in [HackerRank](https://www.hackerrank.com/challenges/bon-appetit/problem)\n",
    "___"
   ]
  },
  {
   "cell_type": "markdown",
   "metadata": {},
   "source": [
    "## **1. Problem Description**\n",
    "\n",
    "Two friends Anna and Brian, are deciding how to split the bill at a dinner. Each will only pay for the items they consume. Brian gets the check and calculates Anna's portion.\n",
    "\n",
    "Determine if his calculation is correct!\n",
    "\n",
    "*Example case:*\n",
    "\n",
    "Assume the bill has the following prices: bill = [2,4,6]. Anna declines to eat item k = bill[2] which costs 6.\n",
    "If Brian calculates the bill correctly, Anna will pay (2+4)/2 = 3.\n",
    "If he includes the cost of bill[2], he will calculate (2+4+6)/2 = 6. In this case, he should refund 3 to Anna.\n",
    "\n",
    "***Function Description***\n",
    "\n",
    "Complete the bonAppetit function in the editor below. It should print **Bon Appetit** if the bill is fairly split. Otherwise, it should print the integer amount of money that Brian owes Anna.\n",
    "\n",
    "bonAppetit function has the following parameter(s):\n",
    "\n",
    "- bill: an array of integers representing the cost of each item ordered\n",
    "- k: an integer representing the zero-based index of the item Anna doesn't eat\n",
    "- b: the amount of money that Anna contributed to the bill\n",
    "\n",
    "***Input Format***\n",
    "\n",
    "The first line contains two space-separated integers ***n*** and ***k***.\n",
    "<br> n = the number of items ordered\n",
    "<br> k = the 0-based index of the item that Anna did not eat.\n",
    "<br>\n",
    "<br> The second line contains ***n*** space-separated integers bill[i] where $0 \\le i \\le n$.\n",
    "<br>\n",
    "<br> The third line contains an integer ***b***, the amount of money that Brian charged Anna for her share of the bill.\n",
    "\n",
    "***Constraints***\n",
    "\n",
    "- $ 2 \\le n \\le 10^5 $\n",
    "- $ 0 \\le k < n $\n",
    "- $ 0 \\le bill[i] \\le 10^4 $\n",
    "- $ 0 \\le b \\le \\sum \\limits_{i=0}^{n-1} bill[i] $\n",
    "- The amount of money due Anna will always be an integer\n",
    "\n",
    "***Output Format***\n",
    "\n",
    "If Brian did not overcharge Anna, print Bon Appetit on a new line; otherwise, print the difference (i.e., $ b_{\\rm charged} - b_{\\rm actual} $) that Brian must refund to Anna. **This will always be an integer**."
   ]
  },
  {
   "cell_type": "markdown",
   "metadata": {},
   "source": [
    "## **2. Solution**"
   ]
  },
  {
   "cell_type": "markdown",
   "metadata": {},
   "source": [
    "Note : since I use Jupyterlab kernel, there's no need to import libraries below. But if you use a certain version of Python and in need to import them, simply uncomment the code below."
   ]
  },
  {
   "cell_type": "code",
   "execution_count": null,
   "metadata": {},
   "outputs": [],
   "source": [
    "# import math\n",
    "# import os\n",
    "# import random\n",
    "# import re\n",
    "# import sys"
   ]
  },
  {
   "cell_type": "markdown",
   "metadata": {},
   "source": [
    "#### *bonAppetit function*"
   ]
  },
  {
   "cell_type": "code",
   "execution_count": 15,
   "metadata": {},
   "outputs": [],
   "source": [
    "def bonAppetit(bill, k, b):\n",
    "\n",
    "    total_anna_eat = sum(bill) - bill[k]\n",
    "    split_pay = total_anna_eat // 2 # use // to avoid float result\n",
    "    \n",
    "    if b == split_pay:\n",
    "        return print('Bon Appetit')\n",
    "    else:\n",
    "        # print the amount Brian has to refund to Anna\n",
    "        return print(b - split_pay)"
   ]
  },
  {
   "cell_type": "markdown",
   "metadata": {},
   "source": [
    "#### *main input-output function*"
   ]
  },
  {
   "cell_type": "code",
   "execution_count": 16,
   "metadata": {},
   "outputs": [
    {
     "name": "stdin",
     "output_type": "stream",
     "text": [
      " 4 1\n",
      " 3 10 2 9\n",
      " 12\n"
     ]
    },
    {
     "name": "stdout",
     "output_type": "stream",
     "text": [
      "5\n"
     ]
    }
   ],
   "source": [
    "if __name__ == '__main__':\n",
    "    \n",
    "    # first-line input, n and k\n",
    "    nk = input().rstrip().split()\n",
    "\n",
    "    n = int(nk[0])\n",
    "    k = int(nk[1])\n",
    "\n",
    "    # second-line input, bill/price where len(bill) = n\n",
    "    bill = list(map(int, input().rstrip().split()))\n",
    "\n",
    "    # third-line input, bill Brian charged to Anna\n",
    "    b = int(input().strip())\n",
    "\n",
    "    bonAppetit(bill, k, b)"
   ]
  }
 ],
 "metadata": {
  "kernelspec": {
   "display_name": "data-science",
   "language": "python",
   "name": "data-science"
  },
  "language_info": {
   "codemirror_mode": {
    "name": "ipython",
    "version": 3
   },
   "file_extension": ".py",
   "mimetype": "text/x-python",
   "name": "python",
   "nbconvert_exporter": "python",
   "pygments_lexer": "ipython3",
   "version": "3.7.9"
  }
 },
 "nbformat": 4,
 "nbformat_minor": 4
}
